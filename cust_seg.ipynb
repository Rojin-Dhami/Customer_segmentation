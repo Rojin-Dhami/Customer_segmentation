{
 "cells": [
  {
   "cell_type": "code",
   "execution_count": null,
   "id": "9c01c339-e78d-4018-9e67-7a455d34b1d2",
   "metadata": {},
   "outputs": [],
   "source": []
  }
 ],
 "metadata": {
  "kernelspec": {
   "display_name": "",
   "name": ""
  },
  "language_info": {
   "name": ""
  }
 },
 "nbformat": 4,
 "nbformat_minor": 5
}
